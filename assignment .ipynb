{
 "cells": [
  {
   "cell_type": "code",
   "execution_count": 1,
   "id": "9ea96ba0-5eba-404e-874f-f3ebd554d28e",
   "metadata": {},
   "outputs": [
    {
     "name": "stdout",
     "output_type": "stream",
     "text": [
      "[1, 3, 5, 7, 9, 11, 13, 15, 17, 19, 21, 23, 25]\n"
     ]
    }
   ],
   "source": [
    "#Q1_ans\n",
    "    #def is used to create a function\n",
    "def odd_number():\n",
    "    number = []\n",
    "    for num in range (1,26):\n",
    "        if num %2 != 0:\n",
    "            number.append(num)\n",
    "    return number\n",
    "print(odd_number())\n",
    "        "
   ]
  },
  {
   "cell_type": "code",
   "execution_count": 2,
   "id": "caeab1ee-7ba0-4f33-a085-38936f33a4bb",
   "metadata": {},
   "outputs": [
    {
     "name": "stdout",
     "output_type": "stream",
     "text": [
      "1\n",
      "2\n",
      "3\n",
      "4\n",
      "5\n",
      "name: silu\n",
      "age: 21\n",
      "city: odisha\n"
     ]
    }
   ],
   "source": [
    "#Q2_ans\n",
    "\n",
    "'''In Python, *args and **kwargs are used as parameters in function definitions \n",
    "to allow a variable number of arguments to be passed to the function.\n",
    "\n",
    "The *args parameter allows you to pass a variable number of non-keyword arguments to a function\n",
    "The **kwargs parameter allows you to pass a variable number of keyword arguments to a function.'''\n",
    "\n",
    "def s1(*args):\n",
    "    for arg in args:\n",
    "        print(arg)\n",
    "\n",
    "s1(1, 2, 3, 4, 5)\n",
    "\n",
    "\n",
    "def s2 (**kwargs):\n",
    "    for key, value in kwargs.items():\n",
    "        print(f\"{key}: {value}\")\n",
    "s2(name=\"silu\", age=21, city=\"odisha\")\n"
   ]
  },
  {
   "cell_type": "code",
   "execution_count": 3,
   "id": "211426d5-02ec-46a6-b1ec-f9b8cc50c7f6",
   "metadata": {},
   "outputs": [
    {
     "name": "stdout",
     "output_type": "stream",
     "text": [
      "2\n",
      "4\n",
      "6\n",
      "8\n",
      "10\n"
     ]
    }
   ],
   "source": [
    "#Q3_ans\n",
    "\n",
    "'''In Python, an iterator is an object that implements the iterator protocol,\n",
    "which consists of two methods: __iter__() and __next__().'''\n",
    "\n",
    "l=[2, 4, 6, 8, 10, 12, 14,16, 18, 20]\n",
    "l1=iter(l)\n",
    "for i in range (5):\n",
    "    print(next(l1))\n"
   ]
  },
  {
   "cell_type": "code",
   "execution_count": 4,
   "id": "98cf2de8-5200-4888-8144-702a1d407d58",
   "metadata": {},
   "outputs": [
    {
     "name": "stdout",
     "output_type": "stream",
     "text": [
      "0\n",
      "2\n",
      "4\n",
      "6\n",
      "8\n",
      "10\n",
      "12\n",
      "14\n",
      "16\n",
      "18\n"
     ]
    }
   ],
   "source": [
    "#Q4_ans\n",
    "\n",
    "'''In Python, a generator function is a special type of function that generates a sequence of values using the yield keyword.\n",
    "The yield keyword is used in generator functions to suspend the execution of the function and return a value. \n",
    "When the generator function is called again, it will resume execution from the point where it was suspended. \n",
    "This allows generator functions to be used to generate sequences of values one at a time.'''\n",
    "\n",
    "def even_numbers():\n",
    "    num = 0\n",
    "    while True:\n",
    "        yield num\n",
    "        num += 2\n",
    "    \n",
    "generator = even_numbers()\n",
    "for _ in range(10):\n",
    "    print(next(generator))"
   ]
  },
  {
   "cell_type": "code",
   "execution_count": 5,
   "id": "218f478c-adac-4d70-a6a5-a0765fbef541",
   "metadata": {},
   "outputs": [
    {
     "name": "stdout",
     "output_type": "stream",
     "text": [
      "2\n",
      "3\n",
      "5\n",
      "7\n",
      "11\n",
      "13\n",
      "17\n",
      "19\n",
      "23\n",
      "29\n",
      "31\n",
      "37\n",
      "41\n",
      "43\n",
      "47\n",
      "53\n",
      "59\n",
      "61\n",
      "67\n",
      "71\n"
     ]
    }
   ],
   "source": [
    "#Q5_ans\n",
    "\n",
    "def prime_generator ():\n",
    "    num = 2\n",
    "    prime_num = []\n",
    "    while True:\n",
    "        if all(num % prime != 0 for prime in prime_num ):\n",
    "            yield num\n",
    "            prime_num.append(num)\n",
    "        num += 1\n",
    "        \n",
    "prime_num = prime_generator()\n",
    "for i in range(20):\n",
    "    print(next(prime_num))"
   ]
  },
  {
   "cell_type": "code",
   "execution_count": 6,
   "id": "92ae5901-7cce-4688-8cbd-492d24e4a525",
   "metadata": {},
   "outputs": [
    {
     "name": "stdout",
     "output_type": "stream",
     "text": [
      "0\n",
      "1\n",
      "1\n",
      "2\n",
      "3\n",
      "5\n",
      "8\n",
      "13\n",
      "21\n",
      "34\n"
     ]
    }
   ],
   "source": [
    "#Q6_ans\n",
    "\n",
    "def fibonacci(n):\n",
    "    a, b = 0, 1\n",
    "    count = 1\n",
    "    while count <= n:\n",
    "        print(a)\n",
    "        a, b = b, a + b\n",
    "        count += 1\n",
    "\n",
    "fibonacci(10)"
   ]
  },
  {
   "cell_type": "code",
   "execution_count": 7,
   "id": "b961e309-5324-4229-8728-798c6cd26673",
   "metadata": {},
   "outputs": [
    {
     "name": "stdout",
     "output_type": "stream",
     "text": [
      "['p', 'w', 's', 'k', 'i', 'l', 'l', 's']\n"
     ]
    }
   ],
   "source": [
    "#Q7_ans\n",
    "\n",
    "strings = list(map(lambda x: x, 'pwskills'))\n",
    "print(strings)"
   ]
  },
  {
   "cell_type": "code",
   "execution_count": 8,
   "id": "c7ebcaa1-1258-4ed7-a0f8-5f548aa6a0ac",
   "metadata": {},
   "outputs": [
    {
     "name": "stdout",
     "output_type": "stream",
     "text": [
      "[1, 3, 5, 7, 9, 11, 13, 15, 17, 19, 21, 23, 25, 27, 29, 31, 33, 35, 37, 39, 41, 43, 45, 47, 49, 51, 53, 55, 57, 59, 61, 63, 65, 67, 69, 71, 73, 75, 77, 79, 81, 83, 85, 87, 89, 91, 93, 95, 97, 99]\n"
     ]
    }
   ],
   "source": [
    "#Q8_ans\n",
    "\n",
    "odd_numbers = [num for num in range(1, 101) if num % 2 != 0]\n",
    "print(odd_numbers)"
   ]
  },
  {
   "cell_type": "code",
   "execution_count": null,
   "id": "02592bbe-ec33-4ca9-8700-41c2507a4c7d",
   "metadata": {},
   "outputs": [],
   "source": []
  }
 ],
 "metadata": {
  "kernelspec": {
   "display_name": "Python 3 (ipykernel)",
   "language": "python",
   "name": "python3"
  },
  "language_info": {
   "codemirror_mode": {
    "name": "ipython",
    "version": 3
   },
   "file_extension": ".py",
   "mimetype": "text/x-python",
   "name": "python",
   "nbconvert_exporter": "python",
   "pygments_lexer": "ipython3",
   "version": "3.10.8"
  }
 },
 "nbformat": 4,
 "nbformat_minor": 5
}
